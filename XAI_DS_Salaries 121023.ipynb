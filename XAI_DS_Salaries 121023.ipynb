{
  "nbformat": 4,
  "nbformat_minor": 0,
  "metadata": {
    "colab": {
      "provenance": []
    },
    "kernelspec": {
      "name": "python3",
      "display_name": "Python 3"
    }
  },
  "cells": [
    {
      "cell_type": "markdown",
      "metadata": {
        "id": "CazISR8X_HUG"
      },
      "source": [
        "# Multiple Linear Regression"
      ]
    },
    {
      "cell_type": "markdown",
      "metadata": {
        "id": "pOyqYHTk_Q57"
      },
      "source": [
        "## Importing the libraries"
      ]
    },
    {
      "cell_type": "code",
      "source": [
        "import numpy as np\n",
        "import matplotlib.pyplot as plt\n",
        "import pandas as pd"
      ],
      "metadata": {
        "id": "LU2EpdEfkuEd"
      },
      "execution_count": 1,
      "outputs": []
    },
    {
      "cell_type": "markdown",
      "metadata": {
        "id": "vgC61-ah_WIz"
      },
      "source": [
        "## Importing the dataset"
      ]
    },
    {
      "cell_type": "code",
      "source": [
        "dataset = pd.read_csv('ds_salaries.csv')"
      ],
      "metadata": {
        "id": "NTNgQOrrkxmy"
      },
      "execution_count": 2,
      "outputs": []
    },
    {
      "cell_type": "code",
      "source": [
        "dataset.info()"
      ],
      "metadata": {
        "colab": {
          "base_uri": "https://localhost:8080/"
        },
        "id": "xCuCQ6bAqrxz",
        "outputId": "0390b621-6d42-4319-acc2-8055392b0198"
      },
      "execution_count": 3,
      "outputs": [
        {
          "output_type": "stream",
          "name": "stdout",
          "text": [
            "<class 'pandas.core.frame.DataFrame'>\n",
            "RangeIndex: 607 entries, 0 to 606\n",
            "Data columns (total 12 columns):\n",
            " #   Column              Non-Null Count  Dtype \n",
            "---  ------              --------------  ----- \n",
            " 0   Unnamed: 0          607 non-null    int64 \n",
            " 1   work_year           607 non-null    int64 \n",
            " 2   experience_level    607 non-null    object\n",
            " 3   employment_type     607 non-null    object\n",
            " 4   job_title           607 non-null    object\n",
            " 5   salary              607 non-null    int64 \n",
            " 6   salary_currency     607 non-null    object\n",
            " 7   salary_in_usd       607 non-null    int64 \n",
            " 8   employee_residence  607 non-null    object\n",
            " 9   remote_ratio        607 non-null    int64 \n",
            " 10  company_location    607 non-null    object\n",
            " 11  company_size        607 non-null    object\n",
            "dtypes: int64(5), object(7)\n",
            "memory usage: 57.0+ KB\n"
          ]
        }
      ]
    },
    {
      "cell_type": "code",
      "source": [
        "dataset.head()"
      ],
      "metadata": {
        "colab": {
          "base_uri": "https://localhost:8080/",
          "height": 382
        },
        "id": "HvxLA55qrP-J",
        "outputId": "aa33fd5e-ec09-40ed-adfd-6ccd805d127d"
      },
      "execution_count": 4,
      "outputs": [
        {
          "output_type": "execute_result",
          "data": {
            "text/plain": [
              "   Unnamed: 0  work_year experience_level employment_type  \\\n",
              "0           0       2020               MI              FT   \n",
              "1           1       2020               SE              FT   \n",
              "2           2       2020               SE              FT   \n",
              "3           3       2020               MI              FT   \n",
              "4           4       2020               SE              FT   \n",
              "\n",
              "                    job_title  salary salary_currency  salary_in_usd  \\\n",
              "0              Data Scientist   70000             EUR          79833   \n",
              "1  Machine Learning Scientist  260000             USD         260000   \n",
              "2           Big Data Engineer   85000             GBP         109024   \n",
              "3        Product Data Analyst   20000             USD          20000   \n",
              "4   Machine Learning Engineer  150000             USD         150000   \n",
              "\n",
              "  employee_residence  remote_ratio company_location company_size  \n",
              "0                 DE             0               DE            L  \n",
              "1                 JP             0               JP            S  \n",
              "2                 GB            50               GB            M  \n",
              "3                 HN             0               HN            S  \n",
              "4                 US            50               US            L  "
            ],
            "text/html": [
              "\n",
              "  <div id=\"df-4b64bb42-4132-498f-acbc-46ff209ec244\" class=\"colab-df-container\">\n",
              "    <div>\n",
              "<style scoped>\n",
              "    .dataframe tbody tr th:only-of-type {\n",
              "        vertical-align: middle;\n",
              "    }\n",
              "\n",
              "    .dataframe tbody tr th {\n",
              "        vertical-align: top;\n",
              "    }\n",
              "\n",
              "    .dataframe thead th {\n",
              "        text-align: right;\n",
              "    }\n",
              "</style>\n",
              "<table border=\"1\" class=\"dataframe\">\n",
              "  <thead>\n",
              "    <tr style=\"text-align: right;\">\n",
              "      <th></th>\n",
              "      <th>Unnamed: 0</th>\n",
              "      <th>work_year</th>\n",
              "      <th>experience_level</th>\n",
              "      <th>employment_type</th>\n",
              "      <th>job_title</th>\n",
              "      <th>salary</th>\n",
              "      <th>salary_currency</th>\n",
              "      <th>salary_in_usd</th>\n",
              "      <th>employee_residence</th>\n",
              "      <th>remote_ratio</th>\n",
              "      <th>company_location</th>\n",
              "      <th>company_size</th>\n",
              "    </tr>\n",
              "  </thead>\n",
              "  <tbody>\n",
              "    <tr>\n",
              "      <th>0</th>\n",
              "      <td>0</td>\n",
              "      <td>2020</td>\n",
              "      <td>MI</td>\n",
              "      <td>FT</td>\n",
              "      <td>Data Scientist</td>\n",
              "      <td>70000</td>\n",
              "      <td>EUR</td>\n",
              "      <td>79833</td>\n",
              "      <td>DE</td>\n",
              "      <td>0</td>\n",
              "      <td>DE</td>\n",
              "      <td>L</td>\n",
              "    </tr>\n",
              "    <tr>\n",
              "      <th>1</th>\n",
              "      <td>1</td>\n",
              "      <td>2020</td>\n",
              "      <td>SE</td>\n",
              "      <td>FT</td>\n",
              "      <td>Machine Learning Scientist</td>\n",
              "      <td>260000</td>\n",
              "      <td>USD</td>\n",
              "      <td>260000</td>\n",
              "      <td>JP</td>\n",
              "      <td>0</td>\n",
              "      <td>JP</td>\n",
              "      <td>S</td>\n",
              "    </tr>\n",
              "    <tr>\n",
              "      <th>2</th>\n",
              "      <td>2</td>\n",
              "      <td>2020</td>\n",
              "      <td>SE</td>\n",
              "      <td>FT</td>\n",
              "      <td>Big Data Engineer</td>\n",
              "      <td>85000</td>\n",
              "      <td>GBP</td>\n",
              "      <td>109024</td>\n",
              "      <td>GB</td>\n",
              "      <td>50</td>\n",
              "      <td>GB</td>\n",
              "      <td>M</td>\n",
              "    </tr>\n",
              "    <tr>\n",
              "      <th>3</th>\n",
              "      <td>3</td>\n",
              "      <td>2020</td>\n",
              "      <td>MI</td>\n",
              "      <td>FT</td>\n",
              "      <td>Product Data Analyst</td>\n",
              "      <td>20000</td>\n",
              "      <td>USD</td>\n",
              "      <td>20000</td>\n",
              "      <td>HN</td>\n",
              "      <td>0</td>\n",
              "      <td>HN</td>\n",
              "      <td>S</td>\n",
              "    </tr>\n",
              "    <tr>\n",
              "      <th>4</th>\n",
              "      <td>4</td>\n",
              "      <td>2020</td>\n",
              "      <td>SE</td>\n",
              "      <td>FT</td>\n",
              "      <td>Machine Learning Engineer</td>\n",
              "      <td>150000</td>\n",
              "      <td>USD</td>\n",
              "      <td>150000</td>\n",
              "      <td>US</td>\n",
              "      <td>50</td>\n",
              "      <td>US</td>\n",
              "      <td>L</td>\n",
              "    </tr>\n",
              "  </tbody>\n",
              "</table>\n",
              "</div>\n",
              "    <div class=\"colab-df-buttons\">\n",
              "\n",
              "  <div class=\"colab-df-container\">\n",
              "    <button class=\"colab-df-convert\" onclick=\"convertToInteractive('df-4b64bb42-4132-498f-acbc-46ff209ec244')\"\n",
              "            title=\"Convert this dataframe to an interactive table.\"\n",
              "            style=\"display:none;\">\n",
              "\n",
              "  <svg xmlns=\"http://www.w3.org/2000/svg\" height=\"24px\" viewBox=\"0 -960 960 960\">\n",
              "    <path d=\"M120-120v-720h720v720H120Zm60-500h600v-160H180v160Zm220 220h160v-160H400v160Zm0 220h160v-160H400v160ZM180-400h160v-160H180v160Zm440 0h160v-160H620v160ZM180-180h160v-160H180v160Zm440 0h160v-160H620v160Z\"/>\n",
              "  </svg>\n",
              "    </button>\n",
              "\n",
              "  <style>\n",
              "    .colab-df-container {\n",
              "      display:flex;\n",
              "      gap: 12px;\n",
              "    }\n",
              "\n",
              "    .colab-df-convert {\n",
              "      background-color: #E8F0FE;\n",
              "      border: none;\n",
              "      border-radius: 50%;\n",
              "      cursor: pointer;\n",
              "      display: none;\n",
              "      fill: #1967D2;\n",
              "      height: 32px;\n",
              "      padding: 0 0 0 0;\n",
              "      width: 32px;\n",
              "    }\n",
              "\n",
              "    .colab-df-convert:hover {\n",
              "      background-color: #E2EBFA;\n",
              "      box-shadow: 0px 1px 2px rgba(60, 64, 67, 0.3), 0px 1px 3px 1px rgba(60, 64, 67, 0.15);\n",
              "      fill: #174EA6;\n",
              "    }\n",
              "\n",
              "    .colab-df-buttons div {\n",
              "      margin-bottom: 4px;\n",
              "    }\n",
              "\n",
              "    [theme=dark] .colab-df-convert {\n",
              "      background-color: #3B4455;\n",
              "      fill: #D2E3FC;\n",
              "    }\n",
              "\n",
              "    [theme=dark] .colab-df-convert:hover {\n",
              "      background-color: #434B5C;\n",
              "      box-shadow: 0px 1px 3px 1px rgba(0, 0, 0, 0.15);\n",
              "      filter: drop-shadow(0px 1px 2px rgba(0, 0, 0, 0.3));\n",
              "      fill: #FFFFFF;\n",
              "    }\n",
              "  </style>\n",
              "\n",
              "    <script>\n",
              "      const buttonEl =\n",
              "        document.querySelector('#df-4b64bb42-4132-498f-acbc-46ff209ec244 button.colab-df-convert');\n",
              "      buttonEl.style.display =\n",
              "        google.colab.kernel.accessAllowed ? 'block' : 'none';\n",
              "\n",
              "      async function convertToInteractive(key) {\n",
              "        const element = document.querySelector('#df-4b64bb42-4132-498f-acbc-46ff209ec244');\n",
              "        const dataTable =\n",
              "          await google.colab.kernel.invokeFunction('convertToInteractive',\n",
              "                                                    [key], {});\n",
              "        if (!dataTable) return;\n",
              "\n",
              "        const docLinkHtml = 'Like what you see? Visit the ' +\n",
              "          '<a target=\"_blank\" href=https://colab.research.google.com/notebooks/data_table.ipynb>data table notebook</a>'\n",
              "          + ' to learn more about interactive tables.';\n",
              "        element.innerHTML = '';\n",
              "        dataTable['output_type'] = 'display_data';\n",
              "        await google.colab.output.renderOutput(dataTable, element);\n",
              "        const docLink = document.createElement('div');\n",
              "        docLink.innerHTML = docLinkHtml;\n",
              "        element.appendChild(docLink);\n",
              "      }\n",
              "    </script>\n",
              "  </div>\n",
              "\n",
              "\n",
              "<div id=\"df-793ac9e8-631c-4d87-b608-192340259a4d\">\n",
              "  <button class=\"colab-df-quickchart\" onclick=\"quickchart('df-793ac9e8-631c-4d87-b608-192340259a4d')\"\n",
              "            title=\"Suggest charts.\"\n",
              "            style=\"display:none;\">\n",
              "\n",
              "<svg xmlns=\"http://www.w3.org/2000/svg\" height=\"24px\"viewBox=\"0 0 24 24\"\n",
              "     width=\"24px\">\n",
              "    <g>\n",
              "        <path d=\"M19 3H5c-1.1 0-2 .9-2 2v14c0 1.1.9 2 2 2h14c1.1 0 2-.9 2-2V5c0-1.1-.9-2-2-2zM9 17H7v-7h2v7zm4 0h-2V7h2v10zm4 0h-2v-4h2v4z\"/>\n",
              "    </g>\n",
              "</svg>\n",
              "  </button>\n",
              "\n",
              "<style>\n",
              "  .colab-df-quickchart {\n",
              "      --bg-color: #E8F0FE;\n",
              "      --fill-color: #1967D2;\n",
              "      --hover-bg-color: #E2EBFA;\n",
              "      --hover-fill-color: #174EA6;\n",
              "      --disabled-fill-color: #AAA;\n",
              "      --disabled-bg-color: #DDD;\n",
              "  }\n",
              "\n",
              "  [theme=dark] .colab-df-quickchart {\n",
              "      --bg-color: #3B4455;\n",
              "      --fill-color: #D2E3FC;\n",
              "      --hover-bg-color: #434B5C;\n",
              "      --hover-fill-color: #FFFFFF;\n",
              "      --disabled-bg-color: #3B4455;\n",
              "      --disabled-fill-color: #666;\n",
              "  }\n",
              "\n",
              "  .colab-df-quickchart {\n",
              "    background-color: var(--bg-color);\n",
              "    border: none;\n",
              "    border-radius: 50%;\n",
              "    cursor: pointer;\n",
              "    display: none;\n",
              "    fill: var(--fill-color);\n",
              "    height: 32px;\n",
              "    padding: 0;\n",
              "    width: 32px;\n",
              "  }\n",
              "\n",
              "  .colab-df-quickchart:hover {\n",
              "    background-color: var(--hover-bg-color);\n",
              "    box-shadow: 0 1px 2px rgba(60, 64, 67, 0.3), 0 1px 3px 1px rgba(60, 64, 67, 0.15);\n",
              "    fill: var(--button-hover-fill-color);\n",
              "  }\n",
              "\n",
              "  .colab-df-quickchart-complete:disabled,\n",
              "  .colab-df-quickchart-complete:disabled:hover {\n",
              "    background-color: var(--disabled-bg-color);\n",
              "    fill: var(--disabled-fill-color);\n",
              "    box-shadow: none;\n",
              "  }\n",
              "\n",
              "  .colab-df-spinner {\n",
              "    border: 2px solid var(--fill-color);\n",
              "    border-color: transparent;\n",
              "    border-bottom-color: var(--fill-color);\n",
              "    animation:\n",
              "      spin 1s steps(1) infinite;\n",
              "  }\n",
              "\n",
              "  @keyframes spin {\n",
              "    0% {\n",
              "      border-color: transparent;\n",
              "      border-bottom-color: var(--fill-color);\n",
              "      border-left-color: var(--fill-color);\n",
              "    }\n",
              "    20% {\n",
              "      border-color: transparent;\n",
              "      border-left-color: var(--fill-color);\n",
              "      border-top-color: var(--fill-color);\n",
              "    }\n",
              "    30% {\n",
              "      border-color: transparent;\n",
              "      border-left-color: var(--fill-color);\n",
              "      border-top-color: var(--fill-color);\n",
              "      border-right-color: var(--fill-color);\n",
              "    }\n",
              "    40% {\n",
              "      border-color: transparent;\n",
              "      border-right-color: var(--fill-color);\n",
              "      border-top-color: var(--fill-color);\n",
              "    }\n",
              "    60% {\n",
              "      border-color: transparent;\n",
              "      border-right-color: var(--fill-color);\n",
              "    }\n",
              "    80% {\n",
              "      border-color: transparent;\n",
              "      border-right-color: var(--fill-color);\n",
              "      border-bottom-color: var(--fill-color);\n",
              "    }\n",
              "    90% {\n",
              "      border-color: transparent;\n",
              "      border-bottom-color: var(--fill-color);\n",
              "    }\n",
              "  }\n",
              "</style>\n",
              "\n",
              "  <script>\n",
              "    async function quickchart(key) {\n",
              "      const quickchartButtonEl =\n",
              "        document.querySelector('#' + key + ' button');\n",
              "      quickchartButtonEl.disabled = true;  // To prevent multiple clicks.\n",
              "      quickchartButtonEl.classList.add('colab-df-spinner');\n",
              "      try {\n",
              "        const charts = await google.colab.kernel.invokeFunction(\n",
              "            'suggestCharts', [key], {});\n",
              "      } catch (error) {\n",
              "        console.error('Error during call to suggestCharts:', error);\n",
              "      }\n",
              "      quickchartButtonEl.classList.remove('colab-df-spinner');\n",
              "      quickchartButtonEl.classList.add('colab-df-quickchart-complete');\n",
              "    }\n",
              "    (() => {\n",
              "      let quickchartButtonEl =\n",
              "        document.querySelector('#df-793ac9e8-631c-4d87-b608-192340259a4d button');\n",
              "      quickchartButtonEl.style.display =\n",
              "        google.colab.kernel.accessAllowed ? 'block' : 'none';\n",
              "    })();\n",
              "  </script>\n",
              "</div>\n",
              "    </div>\n",
              "  </div>\n"
            ]
          },
          "metadata": {},
          "execution_count": 4
        }
      ]
    },
    {
      "cell_type": "markdown",
      "source": [
        "# Dataframe manipulation"
      ],
      "metadata": {
        "id": "9nVcE-rplc4y"
      }
    },
    {
      "cell_type": "code",
      "source": [
        "# Drop unnecessary columns\n",
        "dataset = dataset.drop(columns = ['Unnamed: 0', 'salary', 'salary_currency'])\n",
        "\n",
        "# Move column 'salary_in_usd' to the end\n",
        "dataset = dataset[[col for col in dataset.columns if col != 'salary_in_usd'] + ['salary_in_usd']]"
      ],
      "metadata": {
        "id": "GK9B11ZKzYFQ"
      },
      "execution_count": 5,
      "outputs": []
    },
    {
      "cell_type": "code",
      "source": [
        "# Group job titles\n",
        "conditions = [\n",
        "    dataset['job_title'].str.contains('Scientist|Researcher', case=False),\n",
        "    dataset['job_title'].str.contains('Engineer|Architect|Developer', case=False),\n",
        "    dataset['job_title'].str.contains('Analyst|Specialist', case=False),\n",
        "    dataset['job_title'].str.contains('Manager|Lead', case=False),\n",
        "    dataset['job_title'].str.contains('Director', case=False),\n",
        "    dataset['job_title'].str.contains('Consultant', case=False)\n",
        "]\n",
        "\n",
        "# Assign corresponding values based on conditions\n",
        "values = ['Scientist', 'Engineer', 'Analyst', 'Manager', 'Director', 'Consultant']\n",
        "\n",
        "# Create a new Series with the mapped values\n",
        "group_job_title = np.select(conditions, values, default='Other')\n",
        "\n",
        "# Add the new column (named 'group_job_title') to the DataFrame\n",
        "dataset['group_job_title'] = group_job_title\n",
        "\n",
        "# Move the column beside job_title\n",
        "col = dataset.pop('group_job_title')\n",
        "dataset.insert(4, col.name, col)\n",
        "dataset = dataset.drop(columns = ['job_title'])"
      ],
      "metadata": {
        "id": "R_493vrkzq_Z"
      },
      "execution_count": 6,
      "outputs": []
    },
    {
      "cell_type": "code",
      "source": [
        "# Group employee_residence and company_location\n",
        "# Define the list of countries to check for\n",
        "countries_to_check = ['US', 'GB', 'IN', 'CA', 'DE', 'FR', 'ES']\n",
        "\n",
        "#Apply the condition and replace values for 'employee_residence' column\n",
        "employee_residence_condition = dataset['employee_residence'].str.upper().str.contains('|'.join(countries_to_check), case=False)\n",
        "dataset['employee_residence'] = np.where(employee_residence_condition, dataset['employee_residence'], 'Other')\n",
        "\n",
        "# Apply the condition and replace values for 'company_location' column\n",
        "company_location_condition = dataset['company_location'].str.upper().str.contains('|'.join(countries_to_check), case=False)\n",
        "dataset['company_location'] = np.where(company_location_condition, dataset['company_location'], 'Other')"
      ],
      "metadata": {
        "id": "2jNThjUI6EXI"
      },
      "execution_count": 7,
      "outputs": []
    },
    {
      "cell_type": "code",
      "source": [
        "dataset.info()"
      ],
      "metadata": {
        "colab": {
          "base_uri": "https://localhost:8080/"
        },
        "id": "q3E9NKdY1dVy",
        "outputId": "7cefe4ad-15ea-4cac-f96a-fbaa3262629d"
      },
      "execution_count": 8,
      "outputs": [
        {
          "output_type": "stream",
          "name": "stdout",
          "text": [
            "<class 'pandas.core.frame.DataFrame'>\n",
            "RangeIndex: 607 entries, 0 to 606\n",
            "Data columns (total 9 columns):\n",
            " #   Column              Non-Null Count  Dtype \n",
            "---  ------              --------------  ----- \n",
            " 0   work_year           607 non-null    int64 \n",
            " 1   experience_level    607 non-null    object\n",
            " 2   employment_type     607 non-null    object\n",
            " 3   group_job_title     607 non-null    object\n",
            " 4   employee_residence  607 non-null    object\n",
            " 5   remote_ratio        607 non-null    int64 \n",
            " 6   company_location    607 non-null    object\n",
            " 7   company_size        607 non-null    object\n",
            " 8   salary_in_usd       607 non-null    int64 \n",
            "dtypes: int64(3), object(6)\n",
            "memory usage: 42.8+ KB\n"
          ]
        }
      ]
    },
    {
      "cell_type": "markdown",
      "source": [
        "# Defining X and y"
      ],
      "metadata": {
        "id": "kVNpAcXomF1f"
      }
    },
    {
      "cell_type": "code",
      "source": [
        "X = dataset.iloc[:, :-1].values\n",
        "y = dataset.iloc[:, 8].values"
      ],
      "metadata": {
        "id": "g5b4Bv5NqoYw"
      },
      "execution_count": 9,
      "outputs": []
    },
    {
      "cell_type": "markdown",
      "metadata": {
        "id": "VadrvE7s_lS9"
      },
      "source": [
        "## Encoding categorical data and Splitting to Train and Test Set"
      ]
    },
    {
      "cell_type": "code",
      "source": [
        "from sklearn.compose import ColumnTransformer\n",
        "from sklearn.preprocessing import OneHotEncoder\n",
        "from sklearn.model_selection import train_test_split\n",
        "\n",
        "columns_to_encode = [1, 2, 3, 4, 6, 7]\n",
        "\n",
        "# Create a ColumnTransformer to apply one-hot encoding to the specified columns\n",
        "ct = ColumnTransformer(transformers=[('encoder', OneHotEncoder(), columns_to_encode)], remainder='passthrough')\n",
        "\n",
        "# Fit and transform the ColumnTransformer on X\n",
        "X_encoded = ct.fit_transform(X)\n",
        "\n",
        "# Perform the train-test split\n",
        "X_train, X_test, y_train, y_test = train_test_split(X_encoded, y, test_size=0.2, random_state=0)"
      ],
      "metadata": {
        "id": "l7sSHbXblAco"
      },
      "execution_count": 10,
      "outputs": []
    },
    {
      "cell_type": "code",
      "source": [
        "# Get the feature names for one-hot encoded columns\n",
        "one_hot_encoder = ct.named_transformers_['encoder']\n",
        "encoded_feature_names = one_hot_encoder.get_feature_names_out(input_features=dataset.columns[columns_to_encode])\n",
        "\n",
        "# Columns that were not one-hot encoded\n",
        "columns_not_encoded = [0, 5]\n",
        "\n",
        "# Create a list of feature names for non-encoded columns\n",
        "feature_names_not_encoded = dataset.columns[columns_not_encoded].tolist()\n",
        "\n",
        "# Combine feature names of one-hot encoded and non-encoded columns into a single list\n",
        "all_feature_names = list(encoded_feature_names) + feature_names_not_encoded\n",
        "\n",
        "# Print the combined list of feature names\n",
        "print(all_feature_names)\n",
        "\n",
        "# Print the first row of X_train with feature names\n",
        "first_row = X_train[0].toarray().tolist()\n",
        "print(\"First Row of X_train:\")\n",
        "for feature_name, value in zip(all_feature_names, first_row):\n",
        "    print(f\"{feature_name}: {value}\")"
      ],
      "metadata": {
        "colab": {
          "base_uri": "https://localhost:8080/"
        },
        "id": "CEkhkMN0-2An",
        "outputId": "10b1069b-6468-4e6f-cf8c-e3caabefab21"
      },
      "execution_count": 11,
      "outputs": [
        {
          "output_type": "stream",
          "name": "stdout",
          "text": [
            "['experience_level_EN', 'experience_level_EX', 'experience_level_MI', 'experience_level_SE', 'employment_type_CT', 'employment_type_FL', 'employment_type_FT', 'employment_type_PT', 'group_job_title_Analyst', 'group_job_title_Consultant', 'group_job_title_Director', 'group_job_title_Engineer', 'group_job_title_Manager', 'group_job_title_Other', 'group_job_title_Scientist', 'employee_residence_CA', 'employee_residence_DE', 'employee_residence_ES', 'employee_residence_FR', 'employee_residence_GB', 'employee_residence_IN', 'employee_residence_Other', 'employee_residence_US', 'company_location_CA', 'company_location_DE', 'company_location_ES', 'company_location_FR', 'company_location_GB', 'company_location_IN', 'company_location_Other', 'company_location_US', 'company_size_L', 'company_size_M', 'company_size_S', 'work_year', 'remote_ratio']\n",
            "First Row of X_train:\n",
            "experience_level_EN: [0.0, 0.0, 1.0, 0.0, 0.0, 0.0, 1.0, 0.0, 0.0, 0.0, 0.0, 0.0, 0.0, 1.0, 0.0, 0.0, 0.0, 0.0, 0.0, 0.0, 0.0, 1.0, 0.0, 0.0, 0.0, 0.0, 0.0, 0.0, 0.0, 1.0, 0.0, 0.0, 0.0, 1.0, 2022.0, 100.0]\n"
          ]
        }
      ]
    },
    {
      "cell_type": "code",
      "source": [
        "print(X_train.shape)\n",
        "print(X_test.shape)"
      ],
      "metadata": {
        "colab": {
          "base_uri": "https://localhost:8080/"
        },
        "id": "_LlF6JT5l9xS",
        "outputId": "fe0942d3-6d73-45a2-87ce-f6d0c7042e4a"
      },
      "execution_count": 12,
      "outputs": [
        {
          "output_type": "stream",
          "name": "stdout",
          "text": [
            "(485, 36)\n",
            "(122, 36)\n"
          ]
        }
      ]
    },
    {
      "cell_type": "markdown",
      "metadata": {
        "id": "k-McZVsQBINc"
      },
      "source": [
        "## Training the Multiple Linear Regression model on the Training set"
      ]
    },
    {
      "cell_type": "code",
      "source": [
        "from sklearn.linear_model import LinearRegression\n",
        "regressor = LinearRegression()\n",
        "regressor.fit(X_train, y_train)"
      ],
      "metadata": {
        "colab": {
          "base_uri": "https://localhost:8080/",
          "height": 75
        },
        "id": "VlGcMDp6nfcA",
        "outputId": "e2ae4c57-efc7-4ea8-879d-ca5dfa92cf4f"
      },
      "execution_count": 13,
      "outputs": [
        {
          "output_type": "execute_result",
          "data": {
            "text/plain": [
              "LinearRegression()"
            ],
            "text/html": [
              "<style>#sk-container-id-1 {color: black;background-color: white;}#sk-container-id-1 pre{padding: 0;}#sk-container-id-1 div.sk-toggleable {background-color: white;}#sk-container-id-1 label.sk-toggleable__label {cursor: pointer;display: block;width: 100%;margin-bottom: 0;padding: 0.3em;box-sizing: border-box;text-align: center;}#sk-container-id-1 label.sk-toggleable__label-arrow:before {content: \"▸\";float: left;margin-right: 0.25em;color: #696969;}#sk-container-id-1 label.sk-toggleable__label-arrow:hover:before {color: black;}#sk-container-id-1 div.sk-estimator:hover label.sk-toggleable__label-arrow:before {color: black;}#sk-container-id-1 div.sk-toggleable__content {max-height: 0;max-width: 0;overflow: hidden;text-align: left;background-color: #f0f8ff;}#sk-container-id-1 div.sk-toggleable__content pre {margin: 0.2em;color: black;border-radius: 0.25em;background-color: #f0f8ff;}#sk-container-id-1 input.sk-toggleable__control:checked~div.sk-toggleable__content {max-height: 200px;max-width: 100%;overflow: auto;}#sk-container-id-1 input.sk-toggleable__control:checked~label.sk-toggleable__label-arrow:before {content: \"▾\";}#sk-container-id-1 div.sk-estimator input.sk-toggleable__control:checked~label.sk-toggleable__label {background-color: #d4ebff;}#sk-container-id-1 div.sk-label input.sk-toggleable__control:checked~label.sk-toggleable__label {background-color: #d4ebff;}#sk-container-id-1 input.sk-hidden--visually {border: 0;clip: rect(1px 1px 1px 1px);clip: rect(1px, 1px, 1px, 1px);height: 1px;margin: -1px;overflow: hidden;padding: 0;position: absolute;width: 1px;}#sk-container-id-1 div.sk-estimator {font-family: monospace;background-color: #f0f8ff;border: 1px dotted black;border-radius: 0.25em;box-sizing: border-box;margin-bottom: 0.5em;}#sk-container-id-1 div.sk-estimator:hover {background-color: #d4ebff;}#sk-container-id-1 div.sk-parallel-item::after {content: \"\";width: 100%;border-bottom: 1px solid gray;flex-grow: 1;}#sk-container-id-1 div.sk-label:hover label.sk-toggleable__label {background-color: #d4ebff;}#sk-container-id-1 div.sk-serial::before {content: \"\";position: absolute;border-left: 1px solid gray;box-sizing: border-box;top: 0;bottom: 0;left: 50%;z-index: 0;}#sk-container-id-1 div.sk-serial {display: flex;flex-direction: column;align-items: center;background-color: white;padding-right: 0.2em;padding-left: 0.2em;position: relative;}#sk-container-id-1 div.sk-item {position: relative;z-index: 1;}#sk-container-id-1 div.sk-parallel {display: flex;align-items: stretch;justify-content: center;background-color: white;position: relative;}#sk-container-id-1 div.sk-item::before, #sk-container-id-1 div.sk-parallel-item::before {content: \"\";position: absolute;border-left: 1px solid gray;box-sizing: border-box;top: 0;bottom: 0;left: 50%;z-index: -1;}#sk-container-id-1 div.sk-parallel-item {display: flex;flex-direction: column;z-index: 1;position: relative;background-color: white;}#sk-container-id-1 div.sk-parallel-item:first-child::after {align-self: flex-end;width: 50%;}#sk-container-id-1 div.sk-parallel-item:last-child::after {align-self: flex-start;width: 50%;}#sk-container-id-1 div.sk-parallel-item:only-child::after {width: 0;}#sk-container-id-1 div.sk-dashed-wrapped {border: 1px dashed gray;margin: 0 0.4em 0.5em 0.4em;box-sizing: border-box;padding-bottom: 0.4em;background-color: white;}#sk-container-id-1 div.sk-label label {font-family: monospace;font-weight: bold;display: inline-block;line-height: 1.2em;}#sk-container-id-1 div.sk-label-container {text-align: center;}#sk-container-id-1 div.sk-container {/* jupyter's `normalize.less` sets `[hidden] { display: none; }` but bootstrap.min.css set `[hidden] { display: none !important; }` so we also need the `!important` here to be able to override the default hidden behavior on the sphinx rendered scikit-learn.org. See: https://github.com/scikit-learn/scikit-learn/issues/21755 */display: inline-block !important;position: relative;}#sk-container-id-1 div.sk-text-repr-fallback {display: none;}</style><div id=\"sk-container-id-1\" class=\"sk-top-container\"><div class=\"sk-text-repr-fallback\"><pre>LinearRegression()</pre><b>In a Jupyter environment, please rerun this cell to show the HTML representation or trust the notebook. <br />On GitHub, the HTML representation is unable to render, please try loading this page with nbviewer.org.</b></div><div class=\"sk-container\" hidden><div class=\"sk-item\"><div class=\"sk-estimator sk-toggleable\"><input class=\"sk-toggleable__control sk-hidden--visually\" id=\"sk-estimator-id-1\" type=\"checkbox\" checked><label for=\"sk-estimator-id-1\" class=\"sk-toggleable__label sk-toggleable__label-arrow\">LinearRegression</label><div class=\"sk-toggleable__content\"><pre>LinearRegression()</pre></div></div></div></div></div>"
            ]
          },
          "metadata": {},
          "execution_count": 13
        }
      ]
    },
    {
      "cell_type": "markdown",
      "source": [
        "# Model Performance Measures"
      ],
      "metadata": {
        "id": "v-f71c07JqUC"
      }
    },
    {
      "cell_type": "code",
      "source": [
        "import statsmodels.api as sm\n",
        "\n",
        "# Calculate the R-squared value\n",
        "r_squared = regressor.score(X_train, y_train)\n",
        "\n",
        "# Get the number of observations and the number of predictors\n",
        "num_observations = X_train.shape[0]\n",
        "num_features = X_train.shape[1]\n",
        "\n",
        "# Calculate the adjusted R-squared\n",
        "adjusted_r_squared = 1 - (1 - r_squared) * (num_observations - 1) / (num_observations - num_features - 1)\n",
        "\n",
        "print(\"R-squared:\", r_squared)\n",
        "print(\"Adjusted R-squared:\", adjusted_r_squared)"
      ],
      "metadata": {
        "colab": {
          "base_uri": "https://localhost:8080/"
        },
        "id": "3mWXUtmBJvFC",
        "outputId": "ae14aa1b-29a1-482a-aca4-06ba96ad1128"
      },
      "execution_count": 23,
      "outputs": [
        {
          "output_type": "stream",
          "name": "stdout",
          "text": [
            "R-squared: 0.5223608410176056\n",
            "Adjusted R-squared: 0.4839791228850918\n"
          ]
        }
      ]
    },
    {
      "cell_type": "markdown",
      "source": [
        "# Getting the final linear regression equation with the values of the coefficients"
      ],
      "metadata": {
        "id": "i9P0lYxHuT1q"
      }
    },
    {
      "cell_type": "code",
      "source": [
        "# Get coefficients and intercept\n",
        "coefficients = np.append(regressor.intercept_, regressor.coef_)"
      ],
      "metadata": {
        "id": "xuYUaGoF_fSw"
      },
      "execution_count": 24,
      "outputs": []
    },
    {
      "cell_type": "code",
      "source": [
        "# Calculate residuals\n",
        "y_pred = regressor.predict(X_train)\n",
        "residuals = y_train - y_pred"
      ],
      "metadata": {
        "id": "Zf2w91AB_nuX"
      },
      "execution_count": 25,
      "outputs": []
    },
    {
      "cell_type": "code",
      "source": [
        "# Calculate the standard errors of the coefficients\n",
        "X_train_dense = X_train.toarray()  # Convert X_train to a dense array\n",
        "X_train_with_intercept = np.column_stack((np.ones(X_train_dense.shape[0]), X_train_dense))  # Add a column of ones for the intercept\n",
        "mse = np.mean(residuals ** 2)  # Mean squared error\n",
        "covariance_matrix = np.linalg.pinv(np.dot(X_train_with_intercept.T, X_train_with_intercept)) * mse\n",
        "se = np.sqrt(np.diag(covariance_matrix))"
      ],
      "metadata": {
        "id": "wfoKJq1e_pJo"
      },
      "execution_count": 26,
      "outputs": []
    },
    {
      "cell_type": "code",
      "source": [
        "from scipy import stats\n",
        "from IPython.display import display, HTML\n",
        "\n",
        "# Degrees of freedom\n",
        "dof = X_train_with_intercept.shape[0] - len(coefficients)\n",
        "\n",
        "# Calculate t-statistics, p-values, and confidence intervals\n",
        "t_statistics = coefficients / se\n",
        "p_values = [2 * (1 - stats.t.cdf(np.abs(t), dof)) for t in t_statistics]\n",
        "alpha = 0.05\n",
        "t_critical = stats.t.ppf(1 - alpha / 2, dof)\n",
        "margin_of_error = t_critical * se\n",
        "confidence_intervals = np.column_stack((coefficients - margin_of_error, coefficients + margin_of_error))\n",
        "\n",
        "# Create a DataFrame to display the results\n",
        "import pandas as pd\n",
        "\n",
        "feature_names = ['Intercept'] + all_feature_names  # Include 'Intercept' as the first feature name\n",
        "results_df = pd.DataFrame({'Feature': feature_names,\n",
        "                           'Coefficient': coefficients,\n",
        "                           'Standard Error': se,\n",
        "                           't-Statistic': t_statistics,\n",
        "                           't-critical': t_critical,\n",
        "                           'p-Value': p_values,\n",
        "                           'Lower CI': confidence_intervals[:, 0],\n",
        "                           'Upper CI': confidence_intervals[:, 1]})\n",
        "\n",
        "# Display the results using an HTML table\n",
        "display(HTML(results_df.to_html(index=False)))\n"
      ],
      "metadata": {
        "colab": {
          "base_uri": "https://localhost:8080/",
          "height": 1000
        },
        "id": "nq0BD4bZ-aKk",
        "outputId": "023fbe1e-6f96-485f-c05e-dad34f03dff2"
      },
      "execution_count": 27,
      "outputs": [
        {
          "output_type": "display_data",
          "data": {
            "text/plain": [
              "<IPython.core.display.HTML object>"
            ],
            "text/html": [
              "<table border=\"1\" class=\"dataframe\">\n",
              "  <thead>\n",
              "    <tr style=\"text-align: right;\">\n",
              "      <th>Feature</th>\n",
              "      <th>Coefficient</th>\n",
              "      <th>Standard Error</th>\n",
              "      <th>t-Statistic</th>\n",
              "      <th>t-critical</th>\n",
              "      <th>p-Value</th>\n",
              "      <th>Lower CI</th>\n",
              "      <th>Upper CI</th>\n",
              "    </tr>\n",
              "  </thead>\n",
              "  <tbody>\n",
              "    <tr>\n",
              "      <td>Intercept</td>\n",
              "      <td>6.790741e+06</td>\n",
              "      <td>3.643807e+06</td>\n",
              "      <td>1.863639</td>\n",
              "      <td>1.965273</td>\n",
              "      <td>0.063026</td>\n",
              "      <td>-3.703351e+05</td>\n",
              "      <td>1.395182e+07</td>\n",
              "    </tr>\n",
              "    <tr>\n",
              "      <td>experience_level_EN</td>\n",
              "      <td>-4.145974e+04</td>\n",
              "      <td>9.184860e+05</td>\n",
              "      <td>-0.045139</td>\n",
              "      <td>1.965273</td>\n",
              "      <td>0.964016</td>\n",
              "      <td>-1.846536e+06</td>\n",
              "      <td>1.763616e+06</td>\n",
              "    </tr>\n",
              "    <tr>\n",
              "      <td>experience_level_EX</td>\n",
              "      <td>6.001196e+04</td>\n",
              "      <td>9.193129e+05</td>\n",
              "      <td>0.065279</td>\n",
              "      <td>1.965273</td>\n",
              "      <td>0.947981</td>\n",
              "      <td>-1.746689e+06</td>\n",
              "      <td>1.866713e+06</td>\n",
              "    </tr>\n",
              "    <tr>\n",
              "      <td>experience_level_MI</td>\n",
              "      <td>-2.110779e+04</td>\n",
              "      <td>9.189184e+05</td>\n",
              "      <td>-0.022970</td>\n",
              "      <td>1.965273</td>\n",
              "      <td>0.981684</td>\n",
              "      <td>-1.827034e+06</td>\n",
              "      <td>1.784818e+06</td>\n",
              "    </tr>\n",
              "    <tr>\n",
              "      <td>experience_level_SE</td>\n",
              "      <td>2.555564e+03</td>\n",
              "      <td>9.195688e+05</td>\n",
              "      <td>0.002779</td>\n",
              "      <td>1.965273</td>\n",
              "      <td>0.997784</td>\n",
              "      <td>-1.804648e+06</td>\n",
              "      <td>1.809760e+06</td>\n",
              "    </tr>\n",
              "    <tr>\n",
              "      <td>employment_type_CT</td>\n",
              "      <td>-1.639035e+04</td>\n",
              "      <td>9.167865e+05</td>\n",
              "      <td>-0.017878</td>\n",
              "      <td>1.965273</td>\n",
              "      <td>0.985744</td>\n",
              "      <td>-1.818126e+06</td>\n",
              "      <td>1.785346e+06</td>\n",
              "    </tr>\n",
              "    <tr>\n",
              "      <td>employment_type_FL</td>\n",
              "      <td>-1.449149e+04</td>\n",
              "      <td>9.192144e+05</td>\n",
              "      <td>-0.015765</td>\n",
              "      <td>1.965273</td>\n",
              "      <td>0.987429</td>\n",
              "      <td>-1.820999e+06</td>\n",
              "      <td>1.792016e+06</td>\n",
              "    </tr>\n",
              "    <tr>\n",
              "      <td>employment_type_FT</td>\n",
              "      <td>1.596922e+04</td>\n",
              "      <td>9.204666e+05</td>\n",
              "      <td>0.017349</td>\n",
              "      <td>1.965273</td>\n",
              "      <td>0.986166</td>\n",
              "      <td>-1.792999e+06</td>\n",
              "      <td>1.824938e+06</td>\n",
              "    </tr>\n",
              "    <tr>\n",
              "      <td>employment_type_PT</td>\n",
              "      <td>1.491262e+04</td>\n",
              "      <td>9.205941e+05</td>\n",
              "      <td>0.016199</td>\n",
              "      <td>1.965273</td>\n",
              "      <td>0.987083</td>\n",
              "      <td>-1.794306e+06</td>\n",
              "      <td>1.824132e+06</td>\n",
              "    </tr>\n",
              "    <tr>\n",
              "      <td>group_job_title_Analyst</td>\n",
              "      <td>-2.925573e+04</td>\n",
              "      <td>5.257501e+05</td>\n",
              "      <td>-0.055646</td>\n",
              "      <td>1.965273</td>\n",
              "      <td>0.955649</td>\n",
              "      <td>-1.062498e+06</td>\n",
              "      <td>1.003987e+06</td>\n",
              "    </tr>\n",
              "    <tr>\n",
              "      <td>group_job_title_Consultant</td>\n",
              "      <td>-5.077097e+03</td>\n",
              "      <td>5.247412e+05</td>\n",
              "      <td>-0.009675</td>\n",
              "      <td>1.965273</td>\n",
              "      <td>0.992285</td>\n",
              "      <td>-1.036337e+06</td>\n",
              "      <td>1.026183e+06</td>\n",
              "    </tr>\n",
              "    <tr>\n",
              "      <td>group_job_title_Director</td>\n",
              "      <td>2.911347e+04</td>\n",
              "      <td>5.251711e+05</td>\n",
              "      <td>0.055436</td>\n",
              "      <td>1.965273</td>\n",
              "      <td>0.955816</td>\n",
              "      <td>-1.002991e+06</td>\n",
              "      <td>1.061218e+06</td>\n",
              "    </tr>\n",
              "    <tr>\n",
              "      <td>group_job_title_Engineer</td>\n",
              "      <td>4.623483e+02</td>\n",
              "      <td>5.254324e+05</td>\n",
              "      <td>0.000880</td>\n",
              "      <td>1.965273</td>\n",
              "      <td>0.999298</td>\n",
              "      <td>-1.032156e+06</td>\n",
              "      <td>1.033081e+06</td>\n",
              "    </tr>\n",
              "    <tr>\n",
              "      <td>group_job_title_Manager</td>\n",
              "      <td>2.086398e+03</td>\n",
              "      <td>5.242276e+05</td>\n",
              "      <td>0.003980</td>\n",
              "      <td>1.965273</td>\n",
              "      <td>0.996826</td>\n",
              "      <td>-1.028164e+06</td>\n",
              "      <td>1.032337e+06</td>\n",
              "    </tr>\n",
              "    <tr>\n",
              "      <td>group_job_title_Other</td>\n",
              "      <td>-4.800797e+03</td>\n",
              "      <td>5.264048e+05</td>\n",
              "      <td>-0.009120</td>\n",
              "      <td>1.965273</td>\n",
              "      <td>0.992727</td>\n",
              "      <td>-1.039330e+06</td>\n",
              "      <td>1.029729e+06</td>\n",
              "    </tr>\n",
              "    <tr>\n",
              "      <td>group_job_title_Scientist</td>\n",
              "      <td>7.471405e+03</td>\n",
              "      <td>5.255984e+05</td>\n",
              "      <td>0.014215</td>\n",
              "      <td>1.965273</td>\n",
              "      <td>0.988665</td>\n",
              "      <td>-1.025473e+06</td>\n",
              "      <td>1.040416e+06</td>\n",
              "    </tr>\n",
              "    <tr>\n",
              "      <td>employee_residence_CA</td>\n",
              "      <td>1.702927e+04</td>\n",
              "      <td>4.631879e+05</td>\n",
              "      <td>0.036765</td>\n",
              "      <td>1.965273</td>\n",
              "      <td>0.970688</td>\n",
              "      <td>-8.932616e+05</td>\n",
              "      <td>9.273202e+05</td>\n",
              "    </tr>\n",
              "    <tr>\n",
              "      <td>employee_residence_DE</td>\n",
              "      <td>-1.372291e+04</td>\n",
              "      <td>4.586942e+05</td>\n",
              "      <td>-0.029917</td>\n",
              "      <td>1.965273</td>\n",
              "      <td>0.976146</td>\n",
              "      <td>-9.151823e+05</td>\n",
              "      <td>8.877365e+05</td>\n",
              "    </tr>\n",
              "    <tr>\n",
              "      <td>employee_residence_ES</td>\n",
              "      <td>1.603128e+04</td>\n",
              "      <td>4.565321e+05</td>\n",
              "      <td>0.035115</td>\n",
              "      <td>1.965273</td>\n",
              "      <td>0.972003</td>\n",
              "      <td>-8.811790e+05</td>\n",
              "      <td>9.132416e+05</td>\n",
              "    </tr>\n",
              "    <tr>\n",
              "      <td>employee_residence_FR</td>\n",
              "      <td>-2.609327e+04</td>\n",
              "      <td>4.593281e+05</td>\n",
              "      <td>-0.056807</td>\n",
              "      <td>1.965273</td>\n",
              "      <td>0.954724</td>\n",
              "      <td>-9.287984e+05</td>\n",
              "      <td>8.766119e+05</td>\n",
              "    </tr>\n",
              "    <tr>\n",
              "      <td>employee_residence_GB</td>\n",
              "      <td>-9.674529e+02</td>\n",
              "      <td>4.615153e+05</td>\n",
              "      <td>-0.002096</td>\n",
              "      <td>1.965273</td>\n",
              "      <td>0.998328</td>\n",
              "      <td>-9.079711e+05</td>\n",
              "      <td>9.060362e+05</td>\n",
              "    </tr>\n",
              "    <tr>\n",
              "      <td>employee_residence_IN</td>\n",
              "      <td>-2.412180e+04</td>\n",
              "      <td>4.611280e+05</td>\n",
              "      <td>-0.052310</td>\n",
              "      <td>1.965273</td>\n",
              "      <td>0.958305</td>\n",
              "      <td>-9.303644e+05</td>\n",
              "      <td>8.821208e+05</td>\n",
              "    </tr>\n",
              "    <tr>\n",
              "      <td>employee_residence_Other</td>\n",
              "      <td>-2.166045e+04</td>\n",
              "      <td>4.593699e+05</td>\n",
              "      <td>-0.047153</td>\n",
              "      <td>1.965273</td>\n",
              "      <td>0.962413</td>\n",
              "      <td>-9.244479e+05</td>\n",
              "      <td>8.811270e+05</td>\n",
              "    </tr>\n",
              "    <tr>\n",
              "      <td>employee_residence_US</td>\n",
              "      <td>5.350534e+04</td>\n",
              "      <td>4.606405e+05</td>\n",
              "      <td>0.116154</td>\n",
              "      <td>1.965273</td>\n",
              "      <td>0.907582</td>\n",
              "      <td>-8.517792e+05</td>\n",
              "      <td>9.587899e+05</td>\n",
              "    </tr>\n",
              "    <tr>\n",
              "      <td>company_location_CA</td>\n",
              "      <td>-3.317972e+03</td>\n",
              "      <td>4.586384e+05</td>\n",
              "      <td>-0.007234</td>\n",
              "      <td>1.965273</td>\n",
              "      <td>0.994231</td>\n",
              "      <td>-9.046679e+05</td>\n",
              "      <td>8.980319e+05</td>\n",
              "    </tr>\n",
              "    <tr>\n",
              "      <td>company_location_DE</td>\n",
              "      <td>1.776056e+04</td>\n",
              "      <td>4.605278e+05</td>\n",
              "      <td>0.038566</td>\n",
              "      <td>1.965273</td>\n",
              "      <td>0.969254</td>\n",
              "      <td>-8.873024e+05</td>\n",
              "      <td>9.228235e+05</td>\n",
              "    </tr>\n",
              "    <tr>\n",
              "      <td>company_location_ES</td>\n",
              "      <td>-3.965555e+04</td>\n",
              "      <td>4.642038e+05</td>\n",
              "      <td>-0.085427</td>\n",
              "      <td>1.965273</td>\n",
              "      <td>0.931960</td>\n",
              "      <td>-9.519429e+05</td>\n",
              "      <td>8.726318e+05</td>\n",
              "    </tr>\n",
              "    <tr>\n",
              "      <td>company_location_FR</td>\n",
              "      <td>1.907709e+04</td>\n",
              "      <td>4.600672e+05</td>\n",
              "      <td>0.041466</td>\n",
              "      <td>1.965273</td>\n",
              "      <td>0.966943</td>\n",
              "      <td>-8.850807e+05</td>\n",
              "      <td>9.232348e+05</td>\n",
              "    </tr>\n",
              "    <tr>\n",
              "      <td>company_location_GB</td>\n",
              "      <td>1.276571e+04</td>\n",
              "      <td>4.593806e+05</td>\n",
              "      <td>0.027789</td>\n",
              "      <td>1.965273</td>\n",
              "      <td>0.977843</td>\n",
              "      <td>-8.900427e+05</td>\n",
              "      <td>9.155742e+05</td>\n",
              "    </tr>\n",
              "    <tr>\n",
              "      <td>company_location_IN</td>\n",
              "      <td>-2.322991e+04</td>\n",
              "      <td>4.588414e+05</td>\n",
              "      <td>-0.050627</td>\n",
              "      <td>1.965273</td>\n",
              "      <td>0.959645</td>\n",
              "      <td>-9.249788e+05</td>\n",
              "      <td>8.785189e+05</td>\n",
              "    </tr>\n",
              "    <tr>\n",
              "      <td>company_location_Other</td>\n",
              "      <td>5.612406e+03</td>\n",
              "      <td>4.597569e+05</td>\n",
              "      <td>0.012207</td>\n",
              "      <td>1.965273</td>\n",
              "      <td>0.990266</td>\n",
              "      <td>-8.979355e+05</td>\n",
              "      <td>9.091603e+05</td>\n",
              "    </tr>\n",
              "    <tr>\n",
              "      <td>company_location_US</td>\n",
              "      <td>1.098766e+04</td>\n",
              "      <td>4.594292e+05</td>\n",
              "      <td>0.023916</td>\n",
              "      <td>1.965273</td>\n",
              "      <td>0.980930</td>\n",
              "      <td>-8.919163e+05</td>\n",
              "      <td>9.138916e+05</td>\n",
              "    </tr>\n",
              "    <tr>\n",
              "      <td>company_size_L</td>\n",
              "      <td>1.019786e+04</td>\n",
              "      <td>1.224660e+06</td>\n",
              "      <td>0.008327</td>\n",
              "      <td>1.965273</td>\n",
              "      <td>0.993360</td>\n",
              "      <td>-2.396593e+06</td>\n",
              "      <td>2.416989e+06</td>\n",
              "    </tr>\n",
              "    <tr>\n",
              "      <td>company_size_M</td>\n",
              "      <td>-4.313590e+03</td>\n",
              "      <td>1.227010e+06</td>\n",
              "      <td>-0.003516</td>\n",
              "      <td>1.965273</td>\n",
              "      <td>0.997197</td>\n",
              "      <td>-2.415724e+06</td>\n",
              "      <td>2.407097e+06</td>\n",
              "    </tr>\n",
              "    <tr>\n",
              "      <td>company_size_S</td>\n",
              "      <td>-5.884271e+03</td>\n",
              "      <td>1.224530e+06</td>\n",
              "      <td>-0.004805</td>\n",
              "      <td>1.965273</td>\n",
              "      <td>0.996168</td>\n",
              "      <td>-2.412421e+06</td>\n",
              "      <td>2.400652e+06</td>\n",
              "    </tr>\n",
              "    <tr>\n",
              "      <td>work_year</td>\n",
              "      <td>-3.324553e+03</td>\n",
              "      <td>4.033980e+03</td>\n",
              "      <td>-0.824137</td>\n",
              "      <td>1.965273</td>\n",
              "      <td>0.410300</td>\n",
              "      <td>-1.125243e+04</td>\n",
              "      <td>4.603320e+03</td>\n",
              "    </tr>\n",
              "    <tr>\n",
              "      <td>remote_ratio</td>\n",
              "      <td>8.347703e+01</td>\n",
              "      <td>5.551996e+01</td>\n",
              "      <td>1.503550</td>\n",
              "      <td>1.965273</td>\n",
              "      <td>0.133402</td>\n",
              "      <td>-2.563487e+01</td>\n",
              "      <td>1.925889e+02</td>\n",
              "    </tr>\n",
              "  </tbody>\n",
              "</table>"
            ]
          },
          "metadata": {}
        }
      ]
    },
    {
      "cell_type": "markdown",
      "source": [
        "# Weights Plot"
      ],
      "metadata": {
        "id": "EuXERzIwn92f"
      }
    },
    {
      "cell_type": "code",
      "source": [
        "# Initialize empty lists to store data and labels for box plots\n",
        "boxplot_data = []\n",
        "boxplot_labels = []\n",
        "\n",
        "# Loop through coefficients, confidence intervals, and labels\n",
        "for i in range(0, num_features): #all_feature_names does not include the intercept\n",
        "    coefficient_label = all_feature_names[i]\n",
        "    confidence_interval = confidence_intervals[i+1] # exclude the intercepts\n",
        "\n",
        "    # Append the confidence interval data and label\n",
        "    boxplot_data.append(confidence_interval)\n",
        "    boxplot_labels.append(coefficient_label)\n",
        "\n",
        "# Create a figure for all box plots\n",
        "plt.figure(figsize=(12, 8))\n",
        "\n",
        "# Create the box plots\n",
        "plt.boxplot(boxplot_data, labels=boxplot_labels, vert=False)\n",
        "plt.xlabel('Confidence Level')\n",
        "plt.title('Confidence Levels for Coefficients')\n",
        "plt.grid(axis='x')\n",
        "plt.tight_layout()\n",
        "\n",
        "# Show the box plots\n",
        "plt.show()"
      ],
      "metadata": {
        "colab": {
          "base_uri": "https://localhost:8080/",
          "height": 586
        },
        "id": "ShQjYkRDBMNp",
        "outputId": "c061e3ae-7826-4162-9dfc-45af37680577"
      },
      "execution_count": 28,
      "outputs": [
        {
          "output_type": "display_data",
          "data": {
            "text/plain": [
              "<Figure size 1200x800 with 1 Axes>"
            ],
            "image/png": "[encoded data removed]"
          },
          "metadata": {}
        }
      ]
    },
    {
      "cell_type": "markdown",
      "source": [
        "# Effects plot"
      ],
      "metadata": {
        "id": "iC4AQH5xoCPD"
      }
    },
    {
      "cell_type": "code",
      "source": [
        "# Determining the effects of each feature\n",
        "boxplot_data = []\n",
        "boxplot_labels = []\n",
        "#num_observations = X_train.shape[0]\n",
        "#num_features = X_train.shape[1]\n",
        "\n",
        "effects = np.empty((num_observations,num_features))\n",
        "\n",
        "# Loop through coefficients, confidence intervals, and labels\n",
        "for i in range(0, num_features):\n",
        "    for j in range (0, X_train.shape[0]):\n",
        "      effects[j,i] = coefficients[i+1]  * X_train[j,i]\n",
        "\n",
        "print(effects.shape)"
      ],
      "metadata": {
        "colab": {
          "base_uri": "https://localhost:8080/"
        },
        "id": "Nja-kWNXQbMC",
        "outputId": "21fe10b8-f535-4a33-830f-c514d8c5b1ee"
      },
      "execution_count": 30,
      "outputs": [
        {
          "output_type": "stream",
          "name": "stdout",
          "text": [
            "(485, 36)\n"
          ]
        }
      ]
    },
    {
      "cell_type": "code",
      "source": [
        "# Summarizing the effects of categorical variables\n",
        "\n",
        "orig_num_categories = X.shape[1]\n",
        "effects_matrix = np.zeros((num_observations, orig_num_categories))\n",
        "\n",
        "# Define the category mapping including both one-hot encoded and non-one-hot encoded categories\n",
        "category_mapping = {\n",
        "    'experience_level': ['experience_level_EN', 'experience_level_EX', 'experience_level_MI', 'experience_level_SE'],\n",
        "    'employment_type': ['employment_type_CT', 'employment_type_FL', 'employment_type_FT', 'employment_type_PT'],\n",
        "    'group_job_title': ['group_job_title_Analyst', 'group_job_title_Consultant', 'group_job_title_Director', 'group_job_title_Engineer', 'group_job_title_Manager', 'group_job_title_Other', 'group_job_title_Scientist'],\n",
        "    'employee_residence': ['employee_residence_CA', 'employee_residence_DE', 'employee_residence_ES', 'employee_residence_FR', 'employee_residence_GB', 'employee_residence_IN', 'employee_residence_Other', 'employee_residence_US'],\n",
        "    'company_location': ['company_location_CA', 'company_location_DE', 'company_location_ES', 'company_location_FR', 'company_location_GB', 'company_location_IN', 'company_location_Other', 'company_location_US'],\n",
        "    'company_size': ['company_size_L', 'company_size_M', 'company_size_S'],\n",
        "    'remote_ratio': ['remote_ratio'],\n",
        "    'work_year': ['work_year'],\n",
        "}\n",
        "\n",
        "# Iterate through the categories and calculate and populate the effects matrix\n",
        "for i, (category, columns) in enumerate(category_mapping.items()):\n",
        "    # Get the column indices corresponding to the category\n",
        "    column_indices = [all_feature_names.index(col) for col in columns]\n",
        "\n",
        "    # Calculate the sum of effects for each observation and populate the effects matrix\n",
        "    effects_matrix[:, i] = np.sum(effects[:, column_indices], axis=1)\n",
        "\n",
        "print(effects_matrix.shape)\n",
        "\n",
        "# Create a list of labels using the keys from the category_mapping dictionary\n",
        "boxplot_labels = list(category_mapping.keys())\n",
        "\n",
        "# Create a figure for all box plots\n",
        "plt.figure(figsize=(12, 8))\n",
        "\n",
        "# Create the box plots with labels as category names\n",
        "plt.boxplot(effects_matrix, labels=boxplot_labels, vert=False)\n",
        "plt.xlabel('Effects')\n",
        "plt.title('Effects Plot')\n",
        "plt.grid(axis='x')\n",
        "plt.tight_layout()\n",
        "\n",
        "# Show the box plots\n",
        "plt.show()\n"
      ],
      "metadata": {
        "colab": {
          "base_uri": "https://localhost:8080/",
          "height": 604
        },
        "id": "tmRF90Z5Upu2",
        "outputId": "f66c952e-f98c-4675-ca45-b71045f81d0b"
      },
      "execution_count": 32,
      "outputs": [
        {
          "output_type": "stream",
          "name": "stdout",
          "text": [
            "(485, 8)\n"
          ]
        },
        {
          "output_type": "display_data",
          "data": {
            "text/plain": [
              "<Figure size 1200x800 with 1 Axes>"
            ],
            "image/png": "[encoded data removed]"
          },
          "metadata": {}
        }
      ]
    }
  ]
}